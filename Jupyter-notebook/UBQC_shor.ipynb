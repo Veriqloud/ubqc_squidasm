{
 "cells": [
  {
   "cell_type": "markdown",
   "id": "59cd91f0",
   "metadata": {},
   "source": [
    "## Shor's algorithm using UBQC"
   ]
  },
  {
   "cell_type": "code",
   "execution_count": 116,
   "id": "4b75f0c8",
   "metadata": {},
   "outputs": [],
   "source": [
    "# Load the libraries\n",
    "\n",
    "import matplotlib.pyplot as plt\n",
    "import math\n",
    "import numpy as np\n",
    "from qiskit import QuantumCircuit, Aer, transpile, QuantumRegister, execute, ClassicalRegister\n",
    "from qiskit.utils import QuantumInstance\n",
    "from qiskit.algorithms import Shor\n",
    "from qiskit.visualization import plot_histogram\n",
    "from numpy.random import randint\n",
    "import pandas as pd\n",
    "from fractions import Fraction\n",
    "from qiskit.visualization import plot_histogram\n",
    "from qiskit.circuit.library import QFT\n",
    "from qiskit.compiler.assembler import assemble"
   ]
  },
  {
   "cell_type": "markdown",
   "id": "44c3b0d4",
   "metadata": {},
   "source": [
    "In this notebook we try to apply using the UBQC compiler for executing Shor's prime factorization algorithm. For this, the $\\textit{Qiskit}$ implementation for Shor's algorithm is used.\n",
    "\n",
    "### Example:"
   ]
  },
  {
   "cell_type": "code",
   "execution_count": 121,
   "id": "6ff990c1",
   "metadata": {},
   "outputs": [
    {
     "data": {
      "text/html": [
       "<pre style=\"word-wrap: normal;white-space: pre;background: #fff0;line-height: 1.1;font-family: &quot;Courier New&quot;,Courier,monospace\">        ┌───┐┌─────────────┐┌───────┐\n",
       "  up_0: ┤ H ├┤0            ├┤0      ├\n",
       "        ├───┤│             ││       │\n",
       "  up_1: ┤ H ├┤1            ├┤1      ├\n",
       "        ├───┤│             ││       │\n",
       "  up_2: ┤ H ├┤2            ├┤2      ├\n",
       "        ├───┤│             ││       │\n",
       "  up_3: ┤ H ├┤3            ├┤3      ├\n",
       "        ├───┤│             ││  IQFT │\n",
       "  up_4: ┤ H ├┤4            ├┤4      ├\n",
       "        ├───┤│             ││       │\n",
       "  up_5: ┤ H ├┤5            ├┤5      ├\n",
       "        ├───┤│             ││       │\n",
       "  up_6: ┤ H ├┤6            ├┤6      ├\n",
       "        ├───┤│             ││       │\n",
       "  up_7: ┤ H ├┤7            ├┤7      ├\n",
       "        ├───┤│             │└───────┘\n",
       "down_0: ┤ X ├┤8            ├─────────\n",
       "        └───┘│   2^x mod 9 │         \n",
       "down_1: ─────┤9            ├─────────\n",
       "             │             │         \n",
       "down_2: ─────┤10           ├─────────\n",
       "             │             │         \n",
       "down_3: ─────┤11           ├─────────\n",
       "             │             │         \n",
       " aux_0: ─────┤12           ├─────────\n",
       "             │             │         \n",
       " aux_1: ─────┤13           ├─────────\n",
       "             │             │         \n",
       " aux_2: ─────┤14           ├─────────\n",
       "             │             │         \n",
       " aux_3: ─────┤15           ├─────────\n",
       "             │             │         \n",
       " aux_4: ─────┤16           ├─────────\n",
       "             │             │         \n",
       " aux_5: ─────┤17           ├─────────\n",
       "             └─────────────┘         </pre>"
      ],
      "text/plain": [
       "        ┌───┐┌─────────────┐┌───────┐\n",
       "  up_0: ┤ H ├┤0            ├┤0      ├\n",
       "        ├───┤│             ││       │\n",
       "  up_1: ┤ H ├┤1            ├┤1      ├\n",
       "        ├───┤│             ││       │\n",
       "  up_2: ┤ H ├┤2            ├┤2      ├\n",
       "        ├───┤│             ││       │\n",
       "  up_3: ┤ H ├┤3            ├┤3      ├\n",
       "        ├───┤│             ││  IQFT │\n",
       "  up_4: ┤ H ├┤4            ├┤4      ├\n",
       "        ├───┤│             ││       │\n",
       "  up_5: ┤ H ├┤5            ├┤5      ├\n",
       "        ├───┤│             ││       │\n",
       "  up_6: ┤ H ├┤6            ├┤6      ├\n",
       "        ├───┤│             ││       │\n",
       "  up_7: ┤ H ├┤7            ├┤7      ├\n",
       "        ├───┤│             │└───────┘\n",
       "down_0: ┤ X ├┤8            ├─────────\n",
       "        └───┘│   2^x mod 9 │         \n",
       "down_1: ─────┤9            ├─────────\n",
       "             │             │         \n",
       "down_2: ─────┤10           ├─────────\n",
       "             │             │         \n",
       "down_3: ─────┤11           ├─────────\n",
       "             │             │         \n",
       " aux_0: ─────┤12           ├─────────\n",
       "             │             │         \n",
       " aux_1: ─────┤13           ├─────────\n",
       "             │             │         \n",
       " aux_2: ─────┤14           ├─────────\n",
       "             │             │         \n",
       " aux_3: ─────┤15           ├─────────\n",
       "             │             │         \n",
       " aux_4: ─────┤16           ├─────────\n",
       "             │             │         \n",
       " aux_5: ─────┤17           ├─────────\n",
       "             └─────────────┘         "
      ]
     },
     "execution_count": 121,
     "metadata": {},
     "output_type": "execute_result"
    }
   ],
   "source": [
    "# Circuit for computing the prime factors of 9\n",
    "\n",
    "circuit = shor.construct_circuit(9)\n",
    "circuit.draw()"
   ]
  },
  {
   "cell_type": "markdown",
   "id": "6ac6a628",
   "metadata": {},
   "source": [
    "Since the circuit implementation of Shor's algorithm demands some classical postprocessing, we provide a function taking a number as an input, and giving out the factors as calculated with Shor's algorithm:"
   ]
  },
  {
   "cell_type": "code",
   "execution_count": 118,
   "id": "6fc7c6b4",
   "metadata": {},
   "outputs": [
    {
     "name": "stdout",
     "output_type": "stream",
     "text": [
      "Factors: [3, 9, 3]\n"
     ]
    }
   ],
   "source": [
    "def factorize_number(target_number):\n",
    "    # Construct the circuit for Shor's algorithm with the target number\n",
    "    circuit = shor.construct_circuit(target_number,5)\n",
    "    \n",
    "    # Measure the qubits you want to obtain the measurement results\n",
    "    measurement_qubits = circuit.qubits[:int(np.log2(target_number))]  # Measure the first log2(N) qubits\n",
    "    \n",
    "    # Create classical registers for measurement\n",
    "    creg = ClassicalRegister(len(measurement_qubits), name='c')\n",
    "    \n",
    "    # Add classical registers to the circuit\n",
    "    circuit.add_register(creg)\n",
    "    \n",
    "    # Apply the Quantum Fourier Transform (QFT)\n",
    "    circuit.append(QFT(len(measurement_qubits)), measurement_qubits)\n",
    "    \n",
    "    # Add measurement gates to the circuit\n",
    "    circuit.measure(measurement_qubits, creg)\n",
    "    qobj = assemble(circuit,shots=2000,memory=True)\n",
    "    \n",
    "    # Use a classical simulator to execute the circuit\n",
    "    simulator = Aer.get_backend('aer_simulator')\n",
    "    shots = 1000  # Number of times to run the circuit\n",
    "    job = execute(circuit, simulator, shots=shots)\n",
    "    result = job.result()\n",
    "    \n",
    "    # Get the measurement counts\n",
    "    counts = result.get_counts(circuit)\n",
    "    \n",
    "    # Perform post-processing to extract the factorization result\n",
    "    factors = []\n",
    "    for measurement_result in counts.keys():\n",
    "        binary_measurement = measurement_result[::-1]  # Reverse the binary string\n",
    "        decimal_measurement = int(binary_measurement, 2)  # Convert binary to decimal\n",
    "        factor = np.gcd(decimal_measurement, target_number)  # Calculate the greatest common divisor with the target number\n",
    "        if factor > 1:\n",
    "            factors.append(factor)\n",
    "    \n",
    "    # Print the factors\n",
    "    print(\"Factors:\", factors)\n",
    "    \n",
    "factorize_number(9)"
   ]
  },
  {
   "cell_type": "markdown",
   "id": "e47d73af",
   "metadata": {},
   "source": [
    "### Issues with the simulation\n",
    "\n",
    "Since the UBQC protocol works in the MBQC formalism, every circuit needs to get transformed into the corresponding measurement instructions. The current compiler provides conversion instructions for a given set of gates, while we don't have the possibility to directly convert the inverse Fourier transform or the period finding subcircuit into measurement instructions. As a solution for this, qiskit's subroutine transpile can be used, converting a circuit into an equivalent circuit using only a given set of gates, for which measurement conversion instructions are abundant. As a basis we choose rot_z, rot_x, and cx gates.\n"
   ]
  },
  {
   "cell_type": "code",
   "execution_count": 119,
   "id": "4f9ed4cc",
   "metadata": {},
   "outputs": [],
   "source": [
    "N = 9\n",
    "\n",
    "backend = Aer.get_backend('aer_simulator')\n",
    "quantum_instance = QuantumInstance(backend, shots=1000)\n",
    "shor = Shor(quantum_instance=quantum_instance)\n",
    "shorcircuit = shor.construct_circuit(N,5)\n",
    "measurement_qubits = shorcircuit.qubits[:int(np.log2(N))]\n",
    "creg = ClassicalRegister(len(measurement_qubits), name='c')\n",
    "shorcircuit.add_register(creg)\n",
    "shorcircuit.append(QFT(len(measurement_qubits)), measurement_qubits)\n",
    "shorcircuit.measure(measurement_qubits,creg)\n",
    "shorcircuit = transpile(shorcircuit, basis_gates = ['rz', 'rx', 'cx'])\n",
    "qobj = assemble(shorcircuit,shots=1000, memory=True)"
   ]
  },
  {
   "cell_type": "markdown",
   "id": "3a6bb49f",
   "metadata": {},
   "source": [
    "#### Conclusion\n",
    "Due to the fact that the iQFT and the period finding subroutines are consisting out of a high number of gates in the given basis [RZ, RX, CX], the circuit becomes too complex for the simulation using UBQC. To overcome this problem, measurement conversion instruction for different gates could be implemented in measurement.py, or simplifications on the circuit could be performed."
   ]
  }
 ],
 "metadata": {
  "kernelspec": {
   "display_name": "Python 3",
   "language": "python",
   "name": "python3"
  },
  "language_info": {
   "codemirror_mode": {
    "name": "ipython",
    "version": 3
   },
   "file_extension": ".py",
   "mimetype": "text/x-python",
   "name": "python",
   "nbconvert_exporter": "python",
   "pygments_lexer": "ipython3",
   "version": "3.8.8"
  }
 },
 "nbformat": 4,
 "nbformat_minor": 5
}
