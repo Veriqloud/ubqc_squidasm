{
 "cells": [
  {
   "cell_type": "markdown",
   "id": "958d67d9",
   "metadata": {},
   "source": [
    "# Compiler for Qiskit circuits into simulated UBQC protocols"
   ]
  },
  {
   "cell_type": "markdown",
   "id": "33b57821",
   "metadata": {},
   "source": [
    "In this notebook we present a program compiling Qiskit circuits into UBQC protocols simulated using SquidASM. "
   ]
  },
  {
   "cell_type": "code",
   "execution_count": 9,
   "id": "d9bdb084",
   "metadata": {},
   "outputs": [],
   "source": [
    "# Import files and libraries\n",
    "\n",
    "from squidasm.run.stack.config import StackNetworkConfig\n",
    "from squidasm.run.stack.run import run\n",
    "import netsquid\n",
    "from UBQC_client import AliceProgram\n",
    "from UBQC_server import BobProgram\n",
    "from circuits_qasm import qasm_circs\n",
    "import numpy as np\n",
    "netsquid.set_qstate_formalism(netsquid.QFormalism.KET)\n",
    "\n",
    "# Load the test circuits\n",
    "circuits = qasm_circs()\n",
    "\n",
    "# Run the simulation\n",
    "def run_simulation(test_circ=1, draw=False, log=False, input_gates = None, output_gates = None, custom_circ = None, num_times = 100, config=\"perfect\"):\n",
    "    \n",
    "    if(config==\"perfect\"):\n",
    "        cfg = StackNetworkConfig.from_file(\"config_perfect.yaml\")\n",
    "        print(\"Perfect network configuration chosen!\")\n",
    "    elif(config==\"noise\"):\n",
    "        cfg = StackNetworkConfig.from_file(\"config_noise.yaml\") \n",
    "        print(\"Noisy network configuration chosen!\")\n",
    "    elif(config==\"default\"):\n",
    "        cfg = StackNetworkConfig.from_file(\"config_default.yaml\")\n",
    "        print(\"Default network configuration chosen!\")\n",
    "    else:\n",
    "        print(\"Network configuration not valid!\")\n",
    "    \n",
    "    args = { \"circuit\": test_circ, \"draw\": draw, \n",
    "  \"log\": log, \"output\": output_gates, \"input\": input_gates, \"custom_circ\": custom_circ}\n",
    "    \n",
    "    if not custom_circ:\n",
    "        circ = circuits[int(args[\"circuit\"])-1]\n",
    "        print(\"Client chose circuit {}!\".format(int(args[\"circuit\"])))\n",
    "        print(f\"Expected result: {circ[1]}\")\n",
    "        if(args[\"draw\"]):\n",
    "            print(circ[2])\n",
    "            \n",
    "    if input_gates:\n",
    "        print(f\"Client chose input gates {input_gates}!\")\n",
    "        \n",
    "    if output_gates:\n",
    "        print(f\"Client chose output gates {output_gates}!\")\n",
    "    \n",
    "    if custom_circ:\n",
    "        circ = args[\"custom_circ\"]\n",
    "        print(\"Client chose custom circuit!\")\n",
    "        if(args[\"draw\"]):\n",
    "            print(circ.draw())\n",
    "        \n",
    "    alice_program = AliceProgram(args)\n",
    "    bob_program = BobProgram()\n",
    "    \n",
    "    meas = []\n",
    "    meas.append(run(config=cfg,\n",
    "    programs={\"Alice\": alice_program, \"Bob\": bob_program},\n",
    "    num_times=num_times))\n",
    "\n",
    "    counter = 0\n",
    "    if(config!=\"noise\"):    \n",
    "        results = meas[0][0]\n",
    "        result = results[0][1]\n",
    "        results_mat=[]\n",
    "\n",
    "        for i in range(len(results)):\n",
    "            results_mat.append(results[i][0])\n",
    "            if(results[i][0] == result):\n",
    "                counter += 1\n",
    "        \n",
    "    if(config==\"noise\"):\n",
    "        results = [meas[0][1][i][0] for i in range(len(meas[0][1]))]\n",
    "        result = meas[0][1][0][1]\n",
    "        results_mat = results\n",
    "        for i in range(len(results)):\n",
    "            if(results[i] == result):\n",
    "                counter += 1\n",
    "            \n",
    "    print(f\"Success rate: {counter} in {len(results)}\")\n",
    "    \n",
    "    return results_mat"
   ]
  },
  {
   "cell_type": "markdown",
   "id": "c0d307c4",
   "metadata": {},
   "source": [
    "## Example usage"
   ]
  },
  {
   "cell_type": "markdown",
   "id": "ae4a6da8",
   "metadata": {},
   "source": [
    "#### The only function that needs to get called by the user is run_simulation. Its in- and output can be summarized as follows:\n",
    "\n",
    "### In:\n",
    "- $\\textbf{test_circ}$ (int): number between 1 and 15 choosing one of the test circuits defined in circuits_qasm.py. Standard is 1.\n",
    "- $\\textbf{draw}$: (bool): if True, the simulated circuit get's drawn. Standard is False.\n",
    "- $\\textbf{log}$ (bool): if True, logging will be enabled. Standard is False.\n",
    "- $\\textbf{input_gates}$ (array): array of input gates (str) that are to be applied before the simulation of the circuit. Standard is None.\n",
    "- $\\textbf{output_gates}$ (array): array of output gates (str) that are to be applied after the simulation of the circuit. Standard is None.\n",
    "- $\\textbf{custom_circ}$ (Qiskit circuit): Customized circuit that get's simulated instead of the test circuits, provided by client. Standard is None.\n",
    "- $\\textbf{num_times}$ (int): Number of simulation iterations. Standard is 100.\n",
    "- $\\textbf{config}$ (string): Either \"perfect\", \"default\", or \"noise\"; determines noise configuration of simulation. Standard is perfect.\n",
    "\n",
    "### Out:\n",
    "- $\\textbf{Prints success rate}$ (right results out of total number of iterations), not available for custom circuits\n",
    "- $\\textbf{Returns result matrix}$ to the simulation of the UBQC protocol for all simulation runs"
   ]
  },
  {
   "cell_type": "code",
   "execution_count": 10,
   "id": "90003706",
   "metadata": {},
   "outputs": [
    {
     "name": "stdout",
     "output_type": "stream",
     "text": [
      "Default network configuration chosen!\n",
      "Client chose circuit 3!\n",
      "Expected result: [0]\n",
      "      ┌───┐┌───┐┌───┐\n",
      "  q4: ┤ Z ├┤ H ├┤ X ├\n",
      "      └───┘└───┘└───┘\n",
      "c4: 1/═══════════════\n",
      "                     \n",
      "Measurement in Z-Basis: [0]\n",
      "Measurement in Z-Basis: [0]\n",
      "Measurement in Z-Basis: [0]\n",
      "Measurement in Z-Basis: [0]\n",
      "Measurement in Z-Basis: [0]\n",
      "Measurement in Z-Basis: [0]\n",
      "Measurement in Z-Basis: [0]\n",
      "Measurement in Z-Basis: [0]\n",
      "Measurement in Z-Basis: [0]\n",
      "Measurement in Z-Basis: [0]\n",
      "Success rate: 10 in 10\n"
     ]
    },
    {
     "data": {
      "text/plain": [
       "[[0], [0], [0], [0], [0], [0], [0], [0], [0], [0]]"
      ]
     },
     "execution_count": 10,
     "metadata": {},
     "output_type": "execute_result"
    }
   ],
   "source": [
    "run_simulation(draw=True, test_circ = 3,config=\"default\", num_times = 10)"
   ]
  },
  {
   "cell_type": "markdown",
   "id": "da913df8",
   "metadata": {},
   "source": [
    "### Running custom circuits"
   ]
  },
  {
   "cell_type": "code",
   "execution_count": 42,
   "id": "91abcd79",
   "metadata": {},
   "outputs": [
    {
     "name": "stdout",
     "output_type": "stream",
     "text": [
      "Perfect network configuration chosen!\n",
      "Client chose input gates ['rot_z(128)', 'rot_z(128)', 'rot_z(128)']!\n",
      "Client chose custom circuit!\n",
      "         ┌───┐┌───┐\n",
      "q1111_0: ┤ Z ├┤ H ├\n",
      "         ├───┤├───┤\n",
      "q1111_1: ┤ Z ├┤ H ├\n",
      "         ├───┤└───┘\n",
      "q1111_2: ┤ H ├─────\n",
      "         └───┘     \n",
      "c1111: 3/══════════\n",
      "                   \n",
      "Measurement in Z-Basis: [0, 0, 1]\n",
      "Measurement in Z-Basis: [0, 0, 1]\n",
      "Measurement in Z-Basis: [0, 0, 1]\n",
      "Measurement in Z-Basis: [0, 0, 1]\n",
      "Measurement in Z-Basis: [0, 0, 1]\n",
      "Success rate: 0 in 5\n"
     ]
    },
    {
     "data": {
      "text/plain": [
       "[[0, 0, 1], [0, 0, 1], [0, 0, 1], [0, 0, 1], [0, 0, 1]]"
      ]
     },
     "execution_count": 42,
     "metadata": {},
     "output_type": "execute_result"
    }
   ],
   "source": [
    "from qiskit import QuantumRegister,QuantumCircuit, ClassicalRegister\n",
    "from qiskit.compiler.assembler import assemble\n",
    "\n",
    "# Building custom circuit\n",
    "q = QuantumRegister(3)\n",
    "c = ClassicalRegister(3)\n",
    "qc = QuantumCircuit(q, c)\n",
    "qc.z(q[0])\n",
    "qc.z(q[1])\n",
    "qc.h(q[0])\n",
    "qc.h(q[1])\n",
    "qc.h(q[2])\n",
    "\n",
    "# Run the simulation, expected result: [0,0,1]\n",
    "# Disclaimer: Expected result for custom circuit not available; evaluation of success rate has to be performed manually\n",
    "run_simulation(draw=True,custom_circ = qc,config='perfect',input_gates=['rot_z(128)','rot_z(128)','rot_z(128)'],num_times = 5)"
   ]
  },
  {
   "cell_type": "markdown",
   "id": "909ee88e",
   "metadata": {},
   "source": [
    "\n",
    "### "
   ]
  }
 ],
 "metadata": {
  "kernelspec": {
   "display_name": "Python 3",
   "language": "python",
   "name": "python3"
  },
  "language_info": {
   "codemirror_mode": {
    "name": "ipython",
    "version": 3
   },
   "file_extension": ".py",
   "mimetype": "text/x-python",
   "name": "python",
   "nbconvert_exporter": "python",
   "pygments_lexer": "ipython3",
   "version": "3.8.8"
  }
 },
 "nbformat": 4,
 "nbformat_minor": 5
}
