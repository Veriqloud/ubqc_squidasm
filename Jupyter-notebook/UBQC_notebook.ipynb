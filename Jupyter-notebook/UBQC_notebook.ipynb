{
 "cells": [
  {
   "cell_type": "markdown",
   "metadata": {},
   "source": [
    "# Compiler for Qiskit circuits into simulated UBQC protocols"
   ]
  },
  {
   "cell_type": "markdown",
   "metadata": {},
   "source": [
    "In this notebook we present a program compiling Qiskit circuits into UBQC protocols simulated using SquidASM. "
   ]
  },
  {
   "cell_type": "code",
   "execution_count": 1,
   "metadata": {},
   "outputs": [],
   "source": [
    "# Import files and libraries\n",
    "\n",
    "from squidasm.run.stack.config import StackNetworkConfig\n",
    "from squidasm.run.stack.run import run\n",
    "import netsquid\n",
    "from UBQC_client import AliceProgram, LoadType\n",
    "from UBQC_server import BobProgram\n",
    "from circuits_qasm import qasm_circs\n",
    "from qiskit.qasm3 import load\n",
    "\n",
    "\n",
    "import numpy as np\n",
    "netsquid.set_qstate_formalism(netsquid.QFormalism.KET)\n",
    "\n",
    "# Load the test circuits\n",
    "circuits = qasm_circs()\n",
    "\n",
    "\n",
    "# Run the simulation\n",
    "def run_simulation(test_circ=1, draw=False, log=False, input_gates = None, output_gates = None, \n",
    "                   loadMethod = LoadType.DEFAULT,loadPath = None, num_times = 5, config = \"perfect\"\n",
    "                   ,custom_circ = None):\n",
    "    \n",
    "    if(config==\"perfect\"):\n",
    "        cfg = StackNetworkConfig.from_file(\"config_perfect.yaml\")\n",
    "        print(\"Perfect network configuration chosen!\")\n",
    "    elif(config==\"noise\"):\n",
    "        cfg = StackNetworkConfig.from_file(\"config_noise.yaml\") \n",
    "        print(\"Noisy network configuration chosen!\")\n",
    "    elif(config==\"default\"):\n",
    "        cfg = StackNetworkConfig.from_file(\"config_default.yaml\")\n",
    "        print(\"Default network configuration chosen!\")\n",
    "    else:\n",
    "        print(\"Network configuration not valid!\")\n",
    "\n",
    "    args = { \"circuit\": test_circ, \"draw\": draw, \n",
    "            \"log\": log, \"output\": output_gates, \"input\": input_gates, \n",
    "            \"loadMethod\": loadMethod,\"loadPath\": loadPath,\n",
    "            \"custom_circ\": custom_circ}\n",
    "    \n",
    "    if loadMethod == LoadType.DEFAULT :\n",
    "        circ = circuits[int(args[\"circuit\"])-1]\n",
    "        print(\"Client chose circuit {}!\".format(int(args[\"circuit\"])))\n",
    "        print(f\"Expected result: {circ[1]}\")\n",
    "        if(args[\"draw\"]):\n",
    "            print(circ[2])\n",
    "            \n",
    "    if loadMethod == LoadType.CUSTOM:\n",
    "        circ = args[\"custom_circ\"]\n",
    "        print(\"Client chose custom circuit!\")\n",
    "        if(args[\"draw\"]):\n",
    "            print(circ.draw())\n",
    "            \n",
    "    if loadMethod == LoadType.FILE:\n",
    "        circ = load(loadPath)\n",
    "        print(\"Load Qcircuit from a file\")\n",
    "        if(args[\"draw\"]):\n",
    "            print(circ.draw())\n",
    "        \n",
    "    if input_gates:\n",
    "        print(f\"Client chose input gates {input_gates}!\")\n",
    "        \n",
    "    if output_gates:\n",
    "        print(f\"Client chose output gates {output_gates}!\")\n",
    "        \n",
    "        \n",
    "    alice_program = AliceProgram(args)\n",
    "    bob_program = BobProgram()\n",
    "    \n",
    "    meas = []\n",
    "    meas.append(run(config=cfg,\n",
    "    programs={\"Alice\": alice_program, \"Bob\": bob_program},\n",
    "    num_times=num_times))\n",
    "\n",
    "    counter = 0\n",
    "    if(config!=\"noise\"):    \n",
    "        results = meas[0][0]\n",
    "        result = results[0][1]\n",
    "        results_mat=[]\n",
    "\n",
    "        for i in range(len(results)):\n",
    "            results_mat.append(results[i][0])\n",
    "            if(results[i][0] == result):\n",
    "                counter += 1\n",
    "        \n",
    "    if(config==\"noise\"):\n",
    "        results = [meas[0][1][i][0] for i in range(len(meas[0][1]))]\n",
    "        result = meas[0][1][0][1]\n",
    "        results_mat = results\n",
    "        for i in range(len(results)):\n",
    "            if(results[i] == result):\n",
    "                counter += 1\n",
    "    \n",
    "    if loadMethod == LoadType.DEFAULT :\n",
    "        print(f\"Success rate: {counter} in {len(results)}\")\n",
    "    \n",
    "    return results_mat"
   ]
  },
  {
   "cell_type": "markdown",
   "metadata": {},
   "source": [
    "## Example usage"
   ]
  },
  {
   "cell_type": "markdown",
   "metadata": {},
   "source": [
    "#### The only function that needs to get called by the user is run_simulation. Its in- and output can be summarized as follows:\n",
    "\n",
    "### In:\n",
    "- **loadMethod**(LoadType): Loading types to choose from.\n",
    "    - `LoadType.DEFAULT`: default example circuit from `circuit_qasm.py`.\n",
    "    - `LoadType.FILE`: from a `.qasm` file in your file system, a path would be needed.\n",
    "    - `LoadType.CUSTOM`: customized circuit described by coding outside the run_simulation() function.\n",
    "- **loadPath**(str): To indecate the path of the file you like to load if choosing `LoadType.FILE` as your loadMethod.\n",
    "- **test_circ**(int): A number between 1 and 16, choosing one of the test circuits defined in `circuits_qasm.py`. Default is 1.\n",
    "- **draw**(bool): If True, the simulated circuit get's drawn. Default is False.\n",
    "- **log**(bool): If True, logging will be enabled. Default is False.\n",
    "- **input_gates**(array): An array of input gates (str) that are to be applied before the simulation of the circuit. Standard is None.\n",
    "- **output_gates**(array): An array of output gates (str) that are to be applied after the simulation of the circuit. Standard is None.\n",
    "- **custom_circ**(Qiskit circuit): Customized circuit that get's simulated instead of the test circuits, provided by client. Standard is None.\n",
    "- **num_times**(int): Number of simulation iterations. Default is 5.\n",
    "- **config**(string): Either \"perfect\", \"default\", or \"noise\"; determines noise configuration of simulation. Default is perfect.\n",
    "\n",
    "### Out:\n",
    "- **successful rate**: Numbers of correct outcome out of total number of iterations, only available for default circuits.\n",
    "- **circuit result matrix**: Showing the simulated outcome of this circuit through this protocol. "
   ]
  },
  {
   "cell_type": "code",
   "execution_count": 8,
   "metadata": {},
   "outputs": [
    {
     "name": "stdout",
     "output_type": "stream",
     "text": [
      "Default network configuration chosen!\n",
      "Client chose circuit 3!\n",
      "Expected result: [0]\n",
      "      ┌───┐┌───┐┌───┐\n",
      "  q4: ┤ Z ├┤ H ├┤ X ├\n",
      "      └───┘└───┘└───┘\n",
      "c4: 1/═══════════════\n",
      "                     \n"
     ]
    },
    {
     "ename": "RuntimeError",
     "evalue": "Trying to run a stopped simulation.",
     "output_type": "error",
     "traceback": [
      "\u001b[0;31m---------------------------------------------------------------------------\u001b[0m",
      "\u001b[0;31mRuntimeError\u001b[0m                              Traceback (most recent call last)",
      "\u001b[0;32m<ipython-input-8-153a8e1066b8>\u001b[0m in \u001b[0;36m<module>\u001b[0;34m\u001b[0m\n\u001b[1;32m      1\u001b[0m \u001b[0;31m# Example: one of the default case\u001b[0m\u001b[0;34m\u001b[0m\u001b[0;34m\u001b[0m\u001b[0;34m\u001b[0m\u001b[0m\n\u001b[0;32m----> 2\u001b[0;31m \u001b[0mrun_simulation\u001b[0m\u001b[0;34m(\u001b[0m\u001b[0mdraw\u001b[0m\u001b[0;34m=\u001b[0m\u001b[0;32mTrue\u001b[0m\u001b[0;34m,\u001b[0m \u001b[0mtest_circ\u001b[0m \u001b[0;34m=\u001b[0m \u001b[0;36m3\u001b[0m\u001b[0;34m,\u001b[0m\u001b[0mconfig\u001b[0m\u001b[0;34m=\u001b[0m\u001b[0;34m\"default\"\u001b[0m\u001b[0;34m,\u001b[0m \u001b[0mnum_times\u001b[0m \u001b[0;34m=\u001b[0m \u001b[0;36m5\u001b[0m\u001b[0;34m,\u001b[0m\u001b[0mloadMethod\u001b[0m \u001b[0;34m=\u001b[0m \u001b[0mLoadType\u001b[0m\u001b[0;34m.\u001b[0m\u001b[0mDEFAULT\u001b[0m \u001b[0;34m)\u001b[0m\u001b[0;34m\u001b[0m\u001b[0;34m\u001b[0m\u001b[0m\n\u001b[0m",
      "\u001b[0;32m<ipython-input-1-43ff2473f47b>\u001b[0m in \u001b[0;36mrun_simulation\u001b[0;34m(test_circ, draw, log, input_gates, output_gates, loadMethod, loadPath, num_times, config, custom_circ)\u001b[0m\n\u001b[1;32m     69\u001b[0m \u001b[0;34m\u001b[0m\u001b[0m\n\u001b[1;32m     70\u001b[0m     \u001b[0mmeas\u001b[0m \u001b[0;34m=\u001b[0m \u001b[0;34m[\u001b[0m\u001b[0;34m]\u001b[0m\u001b[0;34m\u001b[0m\u001b[0;34m\u001b[0m\u001b[0m\n\u001b[0;32m---> 71\u001b[0;31m     meas.append(run(config=cfg,\n\u001b[0m\u001b[1;32m     72\u001b[0m     \u001b[0mprograms\u001b[0m\u001b[0;34m=\u001b[0m\u001b[0;34m{\u001b[0m\u001b[0;34m\"Alice\"\u001b[0m\u001b[0;34m:\u001b[0m \u001b[0malice_program\u001b[0m\u001b[0;34m,\u001b[0m \u001b[0;34m\"Bob\"\u001b[0m\u001b[0;34m:\u001b[0m \u001b[0mbob_program\u001b[0m\u001b[0;34m}\u001b[0m\u001b[0;34m,\u001b[0m\u001b[0;34m\u001b[0m\u001b[0;34m\u001b[0m\u001b[0m\n\u001b[1;32m     73\u001b[0m     num_times=num_times))\n",
      "\u001b[0;32m~/Desktop/squidASMrepo/squidasm/squidasm/run/stack/run.py\u001b[0m in \u001b[0;36mrun\u001b[0;34m(config, programs, num_times)\u001b[0m\n\u001b[1;32m    164\u001b[0m         \u001b[0mnetwork\u001b[0m\u001b[0;34m.\u001b[0m\u001b[0mstacks\u001b[0m\u001b[0;34m[\u001b[0m\u001b[0mname\u001b[0m\u001b[0;34m]\u001b[0m\u001b[0;34m.\u001b[0m\u001b[0mhost\u001b[0m\u001b[0;34m.\u001b[0m\u001b[0menqueue_program\u001b[0m\u001b[0;34m(\u001b[0m\u001b[0mprogram\u001b[0m\u001b[0;34m,\u001b[0m \u001b[0mnum_times\u001b[0m\u001b[0;34m)\u001b[0m\u001b[0;34m\u001b[0m\u001b[0;34m\u001b[0m\u001b[0m\n\u001b[1;32m    165\u001b[0m \u001b[0;34m\u001b[0m\u001b[0m\n\u001b[0;32m--> 166\u001b[0;31m     \u001b[0mresults\u001b[0m \u001b[0;34m=\u001b[0m \u001b[0m_run\u001b[0m\u001b[0;34m(\u001b[0m\u001b[0mnetwork\u001b[0m\u001b[0;34m)\u001b[0m\u001b[0;34m\u001b[0m\u001b[0;34m\u001b[0m\u001b[0m\n\u001b[0m\u001b[1;32m    167\u001b[0m     \u001b[0;32mreturn\u001b[0m \u001b[0mresults\u001b[0m\u001b[0;34m\u001b[0m\u001b[0;34m\u001b[0m\u001b[0m\n",
      "\u001b[0;32m~/Desktop/squidASMrepo/squidasm/squidasm/run/stack/run.py\u001b[0m in \u001b[0;36m_run\u001b[0;34m(network)\u001b[0m\n\u001b[1;32m    139\u001b[0m \u001b[0;34m\u001b[0m\u001b[0m\n\u001b[1;32m    140\u001b[0m     \u001b[0;31m# Start the NetSquid simulation.\u001b[0m\u001b[0;34m\u001b[0m\u001b[0;34m\u001b[0m\u001b[0;34m\u001b[0m\u001b[0m\n\u001b[0;32m--> 141\u001b[0;31m     \u001b[0mns\u001b[0m\u001b[0;34m.\u001b[0m\u001b[0msim_run\u001b[0m\u001b[0;34m(\u001b[0m\u001b[0;34m)\u001b[0m\u001b[0;34m\u001b[0m\u001b[0;34m\u001b[0m\u001b[0m\n\u001b[0m\u001b[1;32m    142\u001b[0m \u001b[0;34m\u001b[0m\u001b[0m\n\u001b[1;32m    143\u001b[0m     \u001b[0;32mreturn\u001b[0m \u001b[0;34m[\u001b[0m\u001b[0mstack\u001b[0m\u001b[0;34m.\u001b[0m\u001b[0mhost\u001b[0m\u001b[0;34m.\u001b[0m\u001b[0mget_results\u001b[0m\u001b[0;34m(\u001b[0m\u001b[0;34m)\u001b[0m \u001b[0;32mfor\u001b[0m \u001b[0m_\u001b[0m\u001b[0;34m,\u001b[0m \u001b[0mstack\u001b[0m \u001b[0;32min\u001b[0m \u001b[0mnetwork\u001b[0m\u001b[0;34m.\u001b[0m\u001b[0mstacks\u001b[0m\u001b[0;34m.\u001b[0m\u001b[0mitems\u001b[0m\u001b[0;34m(\u001b[0m\u001b[0;34m)\u001b[0m\u001b[0;34m]\u001b[0m\u001b[0;34m\u001b[0m\u001b[0;34m\u001b[0m\u001b[0m\n",
      "\u001b[0;32m~/.local/lib/python3.8/site-packages/netsquid/util/simtools.py\u001b[0m in \u001b[0;36msim_run\u001b[0;34m(end_time, duration, magnitude)\u001b[0m\n\u001b[1;32m    273\u001b[0m             \u001b[0m_simengine\u001b[0m\u001b[0;34m.\u001b[0m\u001b[0mrun\u001b[0m\u001b[0;34m(\u001b[0m\u001b[0;34m(\u001b[0m\u001b[0m_simengine\u001b[0m\u001b[0;34m.\u001b[0m\u001b[0mcurrent_time\u001b[0m \u001b[0;34m+\u001b[0m \u001b[0mduration\u001b[0m \u001b[0;34m*\u001b[0m \u001b[0mmagnitude\u001b[0m\u001b[0;34m)\u001b[0m\u001b[0;34m)\u001b[0m\u001b[0;34m\u001b[0m\u001b[0;34m\u001b[0m\u001b[0m\n\u001b[1;32m    274\u001b[0m         \u001b[0;32melse\u001b[0m\u001b[0;34m:\u001b[0m\u001b[0;34m\u001b[0m\u001b[0;34m\u001b[0m\u001b[0m\n\u001b[0;32m--> 275\u001b[0;31m             \u001b[0m_simengine\u001b[0m\u001b[0;34m.\u001b[0m\u001b[0mrun\u001b[0m\u001b[0;34m(\u001b[0m\u001b[0;34m)\u001b[0m\u001b[0;34m\u001b[0m\u001b[0;34m\u001b[0m\u001b[0m\n\u001b[0m\u001b[1;32m    276\u001b[0m     \u001b[0;32mif\u001b[0m \u001b[0mlogger\u001b[0m\u001b[0;34m.\u001b[0m\u001b[0misEnabledFor\u001b[0m\u001b[0;34m(\u001b[0m\u001b[0mlogging\u001b[0m\u001b[0;34m.\u001b[0m\u001b[0mINFO\u001b[0m\u001b[0;34m)\u001b[0m\u001b[0;34m:\u001b[0m\u001b[0;34m\u001b[0m\u001b[0;34m\u001b[0m\u001b[0m\n\u001b[1;32m    277\u001b[0m         \u001b[0mend_wc_time\u001b[0m \u001b[0;34m=\u001b[0m \u001b[0mtime\u001b[0m\u001b[0;34m(\u001b[0m\u001b[0;34m)\u001b[0m\u001b[0;34m\u001b[0m\u001b[0;34m\u001b[0m\u001b[0m\n",
      "\u001b[0;32mpydynaa/core.pyx\u001b[0m in \u001b[0;36mpydynaa.core.SimulationEngine.run\u001b[0;34m()\u001b[0m\n",
      "\u001b[0;32mpydynaa/core.pyx\u001b[0m in \u001b[0;36mpydynaa.core.SimulationEngine._run\u001b[0;34m()\u001b[0m\n",
      "\u001b[0;31mRuntimeError\u001b[0m: Trying to run a stopped simulation."
     ]
    }
   ],
   "source": [
    "# Example: one of the default case\n",
    "run_simulation(draw=True, test_circ = 3,config=\"default\", num_times = 5,loadMethod = LoadType.DEFAULT )"
   ]
  },
  {
   "cell_type": "markdown",
   "metadata": {},
   "source": [
    "### Running custom circuits"
   ]
  },
  {
   "cell_type": "code",
   "execution_count": 3,
   "metadata": {},
   "outputs": [
    {
     "name": "stdout",
     "output_type": "stream",
     "text": [
      "Perfect network configuration chosen!\n",
      "Client chose custom circuit!\n",
      "       ┌───┐┌───┐\n",
      "q98_0: ┤ Z ├┤ H ├\n",
      "       ├───┤├───┤\n",
      "q98_1: ┤ Z ├┤ H ├\n",
      "       ├───┤└───┘\n",
      "q98_2: ┤ H ├─────\n",
      "       └───┘     \n",
      "c98: 3/══════════\n",
      "                 \n",
      "Measurement in Z-Basis: [1, 1, 0]\n",
      "Measurement in Z-Basis: [1, 1, 0]\n",
      "Measurement in Z-Basis: [1, 1, 0]\n",
      "Measurement in Z-Basis: [1, 1, 0]\n",
      "Measurement in Z-Basis: [1, 1, 0]\n"
     ]
    },
    {
     "data": {
      "text/plain": [
       "[[1, 1, 0], [1, 1, 0], [1, 1, 0], [1, 1, 0], [1, 1, 0]]"
      ]
     },
     "execution_count": 3,
     "metadata": {},
     "output_type": "execute_result"
    }
   ],
   "source": [
    "# Example: apply customized circuit \n",
    "from qiskit import QuantumRegister,QuantumCircuit, ClassicalRegister\n",
    "from qiskit.compiler.assembler import assemble\n",
    "\n",
    "# Building custom circuit\n",
    "q = QuantumRegister(3)\n",
    "c = ClassicalRegister(3)\n",
    "qc = QuantumCircuit(q, c)\n",
    "qc.z(q[0])\n",
    "qc.z(q[1])\n",
    "qc.h(q[0])\n",
    "qc.h(q[1])\n",
    "qc.h(q[2])\n",
    "\n",
    "# Run the simulation, expected result: [0,0,1]\n",
    "# Disclaimer: Expected result for custom circuit not available; evaluation of success rate has to be performed manually\n",
    "run_simulation(draw=True,loadMethod = LoadType.CUSTOM ,custom_circ = qc,config='perfect',num_times = 5)"
   ]
  },
  {
   "cell_type": "code",
   "execution_count": 4,
   "metadata": {},
   "outputs": [
    {
     "name": "stdout",
     "output_type": "stream",
     "text": [
      "Perfect network configuration chosen!\n",
      "Client chose custom circuit!\n",
      "        ┌───┐┌───┐\n",
      "q179_0: ┤ Z ├┤ H ├\n",
      "        ├───┤├───┤\n",
      "q179_1: ┤ Z ├┤ H ├\n",
      "        ├───┤└───┘\n",
      "q179_2: ┤ H ├─────\n",
      "        └───┘     \n",
      "c179: 3/══════════\n",
      "                  \n",
      "Client chose input gates ['rot_z(128)', 'rot_z(128)', 'rot_z(128)']!\n",
      "Measurement in Z-Basis: [0, 0, 1]\n",
      "Measurement in Z-Basis: [0, 0, 1]\n",
      "Measurement in Z-Basis: [0, 0, 1]\n",
      "Measurement in Z-Basis: [0, 0, 1]\n",
      "Measurement in Z-Basis: [0, 0, 1]\n"
     ]
    },
    {
     "data": {
      "text/plain": [
       "[[0, 0, 1], [0, 0, 1], [0, 0, 1], [0, 0, 1], [0, 0, 1]]"
      ]
     },
     "execution_count": 4,
     "metadata": {},
     "output_type": "execute_result"
    }
   ],
   "source": [
    "# Example: apply customized circuit with input gates\n",
    "from qiskit import QuantumRegister,QuantumCircuit, ClassicalRegister\n",
    "from qiskit.compiler.assembler import assemble\n",
    "\n",
    "# Building custom circuit\n",
    "q = QuantumRegister(3)\n",
    "c = ClassicalRegister(3)\n",
    "qc = QuantumCircuit(q, c)\n",
    "qc.z(q[0])\n",
    "qc.z(q[1])\n",
    "qc.h(q[0])\n",
    "qc.h(q[1])\n",
    "qc.h(q[2])\n",
    "\n",
    "# Run the simulation, expected result: [0,0,1]\n",
    "# Disclaimer: Expected result for custom circuit not available; evaluation of success rate has to be performed manually\n",
    "run_simulation(draw=True,loadMethod = LoadType.CUSTOM ,custom_circ = qc,config='perfect',input_gates=['rot_z(128)','rot_z(128)','rot_z(128)']\n",
    "               ,num_times = 5)"
   ]
  },
  {
   "cell_type": "code",
   "execution_count": 5,
   "metadata": {},
   "outputs": [
    {
     "name": "stdout",
     "output_type": "stream",
     "text": [
      "Perfect network configuration chosen!\n",
      "Load Qcircuit from a file\n",
      "                   ┌───┐┌───┐     ┌───┐\n",
      "esc__all_qubits_0: ┤ Z ├┤ H ├──■──┤ X ├\n",
      "                   ├───┤├───┤  │  └─┬─┘\n",
      "esc__all_qubits_1: ┤ Z ├┤ H ├──┼────┼──\n",
      "                   ├───┤└───┘┌─┴─┐  │  \n",
      "esc__all_qubits_2: ┤ H ├─────┤ X ├──■──\n",
      "                   └───┘     └───┘     \n",
      "             c0: 3/════════════════════\n",
      "                                       \n",
      "Measurement in Z-Basis: [0, 1, 1]\n",
      "Measurement in Z-Basis: [0, 1, 1]\n",
      "Measurement in Z-Basis: [0, 1, 1]\n",
      "Measurement in Z-Basis: [0, 1, 1]\n",
      "Measurement in Z-Basis: [0, 1, 1]\n"
     ]
    },
    {
     "data": {
      "text/plain": [
       "[[0, 1, 1], [0, 1, 1], [0, 1, 1], [0, 1, 1], [0, 1, 1]]"
      ]
     },
     "execution_count": 5,
     "metadata": {},
     "output_type": "execute_result"
    }
   ],
   "source": [
    "# Example: Load from a .qasm file\n",
    "from qiskit import QuantumRegister,QuantumCircuit, ClassicalRegister\n",
    "from qiskit.compiler.assembler import assemble\n",
    "\n",
    "\n",
    "run_simulation(draw=True,loadMethod = LoadType.FILE,loadPath = \"./qcircuitTest.qasm\"\n",
    "               ,config='perfect',num_times = 5)"
   ]
  }
 ],
 "metadata": {
  "kernelspec": {
   "display_name": "Python 3",
   "language": "python",
   "name": "python3"
  },
  "language_info": {
   "codemirror_mode": {
    "name": "ipython",
    "version": 3
   },
   "file_extension": ".py",
   "mimetype": "text/x-python",
   "name": "python",
   "nbconvert_exporter": "python",
   "pygments_lexer": "ipython3",
   "version": "3.8.10"
  }
 },
 "nbformat": 4,
 "nbformat_minor": 5
}
